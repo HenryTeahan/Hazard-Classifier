{
 "cells": [
  {
   "cell_type": "code",
   "execution_count": null,
   "id": "576e97d9",
   "metadata": {},
   "outputs": [],
   "source": [
    "def weightpercentage(components):\n",
    "    ingred = []\n",
    "    ingred_mass = []\n",
    "    only_perc = 0\n",
    "    \n",
    "    for component in components:\n",
    "        print('getting component percentage', component.get('percentage'))\n",
    "        print('milimolar',component.get('mM'))\n",
    "        print('molar',component.get('M'))\n",
    "\n",
    "        if component.get('percentage') != None:  \n",
    "            # Percentage\n",
    "            perc = float(component.get('percentage'))\n",
    "            ingred.append(component.get('name'))\n",
    "            ingred_mass.append(perc) # based on 1 L\n",
    "            component['percentage'] = perc\n",
    "            only_perc += 1\n",
    "\n",
    "        elif component.get('mM') != None and component.get('molarmass') != None:\n",
    "            # Milimolar input\n",
    "            mM = float(component.get('mM')*10**-3)\n",
    "            molar_mass = float(component.get('molarmass'))\n",
    "            ingred.append(component.get('name'))\n",
    "            ingred_mass.append(mM*molar_mass)\n",
    "\n",
    "        elif component.get('M') != None and component.get('molarmass') != None:\n",
    "            # Molar input\n",
    "            MM = float(component.get('M'))\n",
    "            molar_mass = float(component.get('molarmass'))\n",
    "\n",
    "            ingred.append(component.get('name'))\n",
    "            ingred_mass.append(MM*molar_mass)\n",
    "        else:\n",
    "            print('error couldnt get inputs')\n",
    "    if only_perc == len(ingred): \n",
    "        return components\n",
    "    else:\n",
    "        for c, component in enumerate(components):\n",
    "            if component['percentage'] == None: \n",
    "                component['perc'] = ingred_mass[c]/1000*100\n",
    "            else:\n",
    "                component['perc'] = component['percentage']\n",
    "\n",
    "                \n",
    "        check = sum([c['perc'] for c in components])\n",
    "        if check > 100:\n",
    "            for component in components:\n",
    "                component['perc'] = component['perc']/check*100\n",
    "        print(sum([c['perc'] for c in components]))\n",
    "\n",
    "        return components"
   ]
  },
  {
   "cell_type": "code",
   "execution_count": 95,
   "id": "463126a9",
   "metadata": {},
   "outputs": [],
   "source": [
    "names = ['a','b','c','d','e']\n",
    "mM = [100, 200, 1000,None, None]\n",
    "molarmass = [10,10,10,None, 190]\n",
    "percentage = [None, None, None, 87,None]\n",
    "Molar = [None, None, None, None, 1]\n",
    "components = []\n",
    "for nam, m,M,P,Mol in zip(names, mM,molarmass, percentage, Molar):\n",
    "    components.append({\"name\": nam, \"mM\": m, \"molarmass\":M, \"percentage\":P, \"M\":Mol})"
   ]
  },
  {
   "cell_type": "code",
   "execution_count": 96,
   "id": "a6509fc3",
   "metadata": {},
   "outputs": [
    {
     "name": "stdout",
     "output_type": "stream",
     "text": [
      "getting component percentage None\n",
      "milimolar 100\n",
      "molar None\n",
      "getting component percentage None\n",
      "milimolar 200\n",
      "molar None\n",
      "getting component percentage None\n",
      "milimolar 1000\n",
      "molar None\n",
      "getting component percentage 87\n",
      "milimolar None\n",
      "molar None\n",
      "getting component percentage None\n",
      "milimolar None\n",
      "molar 1\n",
      "107.3\n",
      "100.0\n"
     ]
    }
   ],
   "source": [
    "components = weightpercentage(components)"
   ]
  },
  {
   "cell_type": "code",
   "execution_count": 97,
   "id": "30b22b4f",
   "metadata": {},
   "outputs": [
    {
     "data": {
      "text/plain": [
       "[{'name': 'a',\n",
       "  'mM': 100,\n",
       "  'molarmass': 10,\n",
       "  'percentage': None,\n",
       "  'M': None,\n",
       "  'perc': 0.09319664492078286},\n",
       " {'name': 'b',\n",
       "  'mM': 200,\n",
       "  'molarmass': 10,\n",
       "  'percentage': None,\n",
       "  'M': None,\n",
       "  'perc': 0.18639328984156572},\n",
       " {'name': 'c',\n",
       "  'mM': 1000,\n",
       "  'molarmass': 10,\n",
       "  'percentage': None,\n",
       "  'M': None,\n",
       "  'perc': 0.9319664492078286},\n",
       " {'name': 'd',\n",
       "  'mM': None,\n",
       "  'molarmass': None,\n",
       "  'percentage': 87.0,\n",
       "  'M': None,\n",
       "  'perc': 81.08108108108108},\n",
       " {'name': 'e',\n",
       "  'mM': None,\n",
       "  'molarmass': 190,\n",
       "  'percentage': None,\n",
       "  'M': 1,\n",
       "  'perc': 17.707362534948743}]"
      ]
     },
     "execution_count": 97,
     "metadata": {},
     "output_type": "execute_result"
    }
   ],
   "source": [
    "components"
   ]
  },
  {
   "cell_type": "code",
   "execution_count": 2,
   "id": "3c3447b8",
   "metadata": {},
   "outputs": [],
   "source": [
    "import yaml\n",
    "import os"
   ]
  },
  {
   "cell_type": "code",
   "execution_count": 8,
   "id": "6528b2b0",
   "metadata": {},
   "outputs": [],
   "source": [
    "BASE_DIR = \"/Users/hteahan/Documents/Hazard Classifier/app\"\n",
    "\n",
    "DATA_DIR = os.path.join(BASE_DIR, 'data')\n",
    "STATIC_IMAGES_DIR = os.path.join(BASE_DIR, 'static', 'Images')\n",
    "TEMPLATES_DIR = os.path.join(BASE_DIR, 'templates')"
   ]
  },
  {
   "cell_type": "code",
   "execution_count": 30,
   "id": "94a2be5a",
   "metadata": {},
   "outputs": [],
   "source": [
    "limits_data_path = os.path.join(DATA_DIR, 'limits.yaml')\n"
   ]
  },
  {
   "cell_type": "code",
   "execution_count": 31,
   "id": "f53a95be",
   "metadata": {},
   "outputs": [],
   "source": [
    "with open(limits_data_path,'r') as file:\n",
    "    pr = yaml.safe_load(file)"
   ]
  },
  {
   "cell_type": "code",
   "execution_count": 32,
   "id": "67272885",
   "metadata": {},
   "outputs": [
    {
     "name": "stdout",
     "output_type": "stream",
     "text": [
      "{'1': 1, '2': 1}\n"
     ]
    }
   ],
   "source": [
    "data = pr['stotre_limits']\n",
    "print(data)"
   ]
  },
  {
   "cell_type": "code",
   "execution_count": 33,
   "id": "41779ba5",
   "metadata": {},
   "outputs": [
    {
     "data": {
      "text/plain": [
       "1"
      ]
     },
     "execution_count": 33,
     "metadata": {},
     "output_type": "execute_result"
    }
   ],
   "source": [
    "data[\"1\"]"
   ]
  }
 ],
 "metadata": {
  "kernelspec": {
   "display_name": "Python 3",
   "language": "python",
   "name": "python3"
  },
  "language_info": {
   "codemirror_mode": {
    "name": "ipython",
    "version": 3
   },
   "file_extension": ".py",
   "mimetype": "text/x-python",
   "name": "python",
   "nbconvert_exporter": "python",
   "pygments_lexer": "ipython3",
   "version": "3.11.9"
  }
 },
 "nbformat": 4,
 "nbformat_minor": 5
}
